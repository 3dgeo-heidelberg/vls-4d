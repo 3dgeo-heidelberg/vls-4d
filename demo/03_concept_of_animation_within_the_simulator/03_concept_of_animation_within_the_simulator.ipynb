{
 "cells": [
  {
   "cell_type": "markdown",
   "id": "a3fab8cc-90d1-4ffd-9c2e-fe3b9815e5da",
   "metadata": {},
   "source": [
    "# 3 Concept of animation within the simulator"
   ]
  },
  {
   "cell_type": "markdown",
   "id": "d7fa66af-b58a-4b4c-9be3-991b30533798",
   "metadata": {},
   "source": [
    "## Imports"
   ]
  },
  {
   "cell_type": "code",
   "execution_count": 1,
   "id": "b2d077ff-88cc-46da-9859-c3084b632172",
   "metadata": {},
   "outputs": [],
   "source": [
    "from pathlib import Path\n",
    "from IPython.display import Code\n",
    "from scripts.nb_utils import read_pc, read_from_output_folder, display_xml\n",
    "import pyhelios\n",
    "from pyhelios.util.xmldisplayer import find_playback_dir\n",
    "import numpy as np\n",
    "import pyvista as pv\n",
    "pv.set_jupyter_backend('trame')\n",
    "import laspy"
   ]
  },
  {
   "cell_type": "markdown",
   "id": "842fc6d2-8add-4169-bad6-16a3dbee7f2b",
   "metadata": {},
   "source": [
    "## Example 3.1: Tree moving in the wind during a single TLS scan\n",
    "\n",
    "In TLS acquisitions, vegetation can also appear as distorted if it is moving during the scan. These effects can be reproduced in the simulation. While vegetation actually deforms non-rigidly, we can assume that for many trees, a single branch moves rigidly. We will therefore use a HELIOS++ [dynamic scene](https://github.com/3dgeo-heidelberg/helios/wiki/Dynamic-scenes) with rigid motions to recreate the distortion effects. We create two dynamic scenes. In both cases, the branch rotates about its base, but in different directions. With the scanner always rotating counter-clockwise, this will lead to a compressed branch (where scanner head and branch move in opposite directions) and an elongated branch (where scanner head and branch move in the same direction)."
   ]
  },
  {
   "cell_type": "markdown",
   "id": "f12d902d-af2e-44e4-ad50-5542aab7f6ca",
   "metadata": {},
   "source": [
    "### The scene\n",
    "\n",
    "[Dynamic scenes](https://github.com/3dgeo-heidelberg/helios/wiki/Dynamic-scenes) in HELIOS++ are defined in the XML files using `motion`s (e.g., rotation and translation), which can be combined into one `dmotion` and changes together to motion sequences. We display just the first part of the scene XML below."
   ]
  },
  {
   "cell_type": "code",
   "execution_count": 3,
   "id": "0424b1e0-2116-4f87-b166-0dc25265f888",
   "metadata": {},
   "outputs": [
    {
     "data": {
      "text/html": [
       "<style>pre { line-height: 125%; }\n",
       "td.linenos .normal { color: inherit; background-color: transparent; padding-left: 5px; padding-right: 5px; }\n",
       "span.linenos { color: inherit; background-color: transparent; padding-left: 5px; padding-right: 5px; }\n",
       "td.linenos .special { color: #000000; background-color: #ffffc0; padding-left: 5px; padding-right: 5px; }\n",
       "span.linenos.special { color: #000000; background-color: #ffffc0; padding-left: 5px; padding-right: 5px; }\n",
       ".output_html .hll { background-color: #ffffcc }\n",
       ".output_html { background: #f8f8f8; }\n",
       ".output_html .c { color: #3D7B7B; font-style: italic } /* Comment */\n",
       ".output_html .err { border: 1px solid #F00 } /* Error */\n",
       ".output_html .k { color: #008000; font-weight: bold } /* Keyword */\n",
       ".output_html .o { color: #666 } /* Operator */\n",
       ".output_html .ch { color: #3D7B7B; font-style: italic } /* Comment.Hashbang */\n",
       ".output_html .cm { color: #3D7B7B; font-style: italic } /* Comment.Multiline */\n",
       ".output_html .cp { color: #9C6500 } /* Comment.Preproc */\n",
       ".output_html .cpf { color: #3D7B7B; font-style: italic } /* Comment.PreprocFile */\n",
       ".output_html .c1 { color: #3D7B7B; font-style: italic } /* Comment.Single */\n",
       ".output_html .cs { color: #3D7B7B; font-style: italic } /* Comment.Special */\n",
       ".output_html .gd { color: #A00000 } /* Generic.Deleted */\n",
       ".output_html .ge { font-style: italic } /* Generic.Emph */\n",
       ".output_html .ges { font-weight: bold; font-style: italic } /* Generic.EmphStrong */\n",
       ".output_html .gr { color: #E40000 } /* Generic.Error */\n",
       ".output_html .gh { color: #000080; font-weight: bold } /* Generic.Heading */\n",
       ".output_html .gi { color: #008400 } /* Generic.Inserted */\n",
       ".output_html .go { color: #717171 } /* Generic.Output */\n",
       ".output_html .gp { color: #000080; font-weight: bold } /* Generic.Prompt */\n",
       ".output_html .gs { font-weight: bold } /* Generic.Strong */\n",
       ".output_html .gu { color: #800080; font-weight: bold } /* Generic.Subheading */\n",
       ".output_html .gt { color: #04D } /* Generic.Traceback */\n",
       ".output_html .kc { color: #008000; font-weight: bold } /* Keyword.Constant */\n",
       ".output_html .kd { color: #008000; font-weight: bold } /* Keyword.Declaration */\n",
       ".output_html .kn { color: #008000; font-weight: bold } /* Keyword.Namespace */\n",
       ".output_html .kp { color: #008000 } /* Keyword.Pseudo */\n",
       ".output_html .kr { color: #008000; font-weight: bold } /* Keyword.Reserved */\n",
       ".output_html .kt { color: #B00040 } /* Keyword.Type */\n",
       ".output_html .m { color: #666 } /* Literal.Number */\n",
       ".output_html .s { color: #BA2121 } /* Literal.String */\n",
       ".output_html .na { color: #687822 } /* Name.Attribute */\n",
       ".output_html .nb { color: #008000 } /* Name.Builtin */\n",
       ".output_html .nc { color: #00F; font-weight: bold } /* Name.Class */\n",
       ".output_html .no { color: #800 } /* Name.Constant */\n",
       ".output_html .nd { color: #A2F } /* Name.Decorator */\n",
       ".output_html .ni { color: #717171; font-weight: bold } /* Name.Entity */\n",
       ".output_html .ne { color: #CB3F38; font-weight: bold } /* Name.Exception */\n",
       ".output_html .nf { color: #00F } /* Name.Function */\n",
       ".output_html .nl { color: #767600 } /* Name.Label */\n",
       ".output_html .nn { color: #00F; font-weight: bold } /* Name.Namespace */\n",
       ".output_html .nt { color: #008000; font-weight: bold } /* Name.Tag */\n",
       ".output_html .nv { color: #19177C } /* Name.Variable */\n",
       ".output_html .ow { color: #A2F; font-weight: bold } /* Operator.Word */\n",
       ".output_html .w { color: #BBB } /* Text.Whitespace */\n",
       ".output_html .mb { color: #666 } /* Literal.Number.Bin */\n",
       ".output_html .mf { color: #666 } /* Literal.Number.Float */\n",
       ".output_html .mh { color: #666 } /* Literal.Number.Hex */\n",
       ".output_html .mi { color: #666 } /* Literal.Number.Integer */\n",
       ".output_html .mo { color: #666 } /* Literal.Number.Oct */\n",
       ".output_html .sa { color: #BA2121 } /* Literal.String.Affix */\n",
       ".output_html .sb { color: #BA2121 } /* Literal.String.Backtick */\n",
       ".output_html .sc { color: #BA2121 } /* Literal.String.Char */\n",
       ".output_html .dl { color: #BA2121 } /* Literal.String.Delimiter */\n",
       ".output_html .sd { color: #BA2121; font-style: italic } /* Literal.String.Doc */\n",
       ".output_html .s2 { color: #BA2121 } /* Literal.String.Double */\n",
       ".output_html .se { color: #AA5D1F; font-weight: bold } /* Literal.String.Escape */\n",
       ".output_html .sh { color: #BA2121 } /* Literal.String.Heredoc */\n",
       ".output_html .si { color: #A45A77; font-weight: bold } /* Literal.String.Interpol */\n",
       ".output_html .sx { color: #008000 } /* Literal.String.Other */\n",
       ".output_html .sr { color: #A45A77 } /* Literal.String.Regex */\n",
       ".output_html .s1 { color: #BA2121 } /* Literal.String.Single */\n",
       ".output_html .ss { color: #19177C } /* Literal.String.Symbol */\n",
       ".output_html .bp { color: #008000 } /* Name.Builtin.Pseudo */\n",
       ".output_html .fm { color: #00F } /* Name.Function.Magic */\n",
       ".output_html .vc { color: #19177C } /* Name.Variable.Class */\n",
       ".output_html .vg { color: #19177C } /* Name.Variable.Global */\n",
       ".output_html .vi { color: #19177C } /* Name.Variable.Instance */\n",
       ".output_html .vm { color: #19177C } /* Name.Variable.Magic */\n",
       ".output_html .il { color: #666 } /* Literal.Number.Integer.Long */</style><div class=\"highlight\"><pre><span></span><span class=\"nt\">&lt;document&gt;</span>\n",
       "<span class=\"w\">    </span><span class=\"nt\">&lt;scene</span><span class=\"w\"> </span><span class=\"na\">id=</span><span class=\"s\">&quot;dyn_scene&quot;</span><span class=\"w\"> </span><span class=\"na\">name=</span><span class=\"s\">&quot;Dynamic scene&quot;</span><span class=\"w\"> </span><span class=\"na\">dynTimeStep=</span><span class=\"s\">&quot;0.020833333333333332&quot;</span><span class=\"nt\">&gt;</span>\n",
       "<span class=\"w\">        </span><span class=\"nt\">&lt;part&gt;</span>\n",
       "<span class=\"w\">            </span><span class=\"nt\">&lt;filter</span><span class=\"w\"> </span><span class=\"na\">type=</span><span class=\"s\">&quot;objloader&quot;</span><span class=\"nt\">&gt;</span>\n",
       "<span class=\"w\">                </span><span class=\"nt\">&lt;param</span><span class=\"w\"> </span><span class=\"na\">type=</span><span class=\"s\">&quot;string&quot;</span><span class=\"w\"> </span><span class=\"na\">key=</span><span class=\"s\">&quot;filepath&quot;</span><span class=\"w\"> </span><span class=\"na\">value=</span><span class=\"s\">&quot;data/sceneparts/box/box_unit_test.obj&quot;</span><span class=\"w\"> </span><span class=\"nt\">/&gt;</span>\n",
       "<span class=\"w\">                </span><span class=\"nt\">&lt;param</span><span class=\"w\"> </span><span class=\"na\">type=</span><span class=\"s\">&quot;string&quot;</span><span class=\"w\"> </span><span class=\"na\">key=</span><span class=\"s\">&quot;up&quot;</span><span class=\"w\"> </span><span class=\"na\">value=</span><span class=\"s\">&quot;z&quot;</span><span class=\"w\"> </span><span class=\"nt\">/&gt;</span>\n",
       "<span class=\"w\">            </span><span class=\"nt\">&lt;/filter&gt;</span>\n",
       "<span class=\"w\">            </span><span class=\"nt\">&lt;filter</span><span class=\"w\"> </span><span class=\"na\">type=</span><span class=\"s\">&quot;scale&quot;</span><span class=\"nt\">&gt;</span>\n",
       "<span class=\"w\">                </span><span class=\"nt\">&lt;param</span><span class=\"w\"> </span><span class=\"na\">type=</span><span class=\"s\">&quot;double&quot;</span><span class=\"w\"> </span><span class=\"na\">key=</span><span class=\"s\">&quot;scale&quot;</span><span class=\"w\"> </span><span class=\"na\">value=</span><span class=\"s\">&quot;0.15&quot;</span><span class=\"w\"> </span><span class=\"nt\">/&gt;</span>\n",
       "<span class=\"w\">            </span><span class=\"nt\">&lt;/filter&gt;</span>\n",
       "<span class=\"w\">        </span><span class=\"nt\">&lt;/part&gt;</span>\n",
       "<span class=\"w\">        </span><span class=\"cm\">&lt;!--Dynamic scenepart--&gt;</span>\n",
       "<span class=\"w\">        </span><span class=\"nt\">&lt;part&gt;</span>\n",
       "<span class=\"w\">            </span><span class=\"nt\">&lt;filter</span><span class=\"w\"> </span><span class=\"na\">type=</span><span class=\"s\">&quot;objloader&quot;</span><span class=\"nt\">&gt;</span>\n",
       "<span class=\"w\">                </span><span class=\"nt\">&lt;param</span><span class=\"w\"> </span><span class=\"na\">type=</span><span class=\"s\">&quot;string&quot;</span><span class=\"w\"> </span><span class=\"na\">key=</span><span class=\"s\">&quot;filepath&quot;</span><span class=\"w\"> </span><span class=\"na\">value=</span><span class=\"s\">&quot;data\\sceneparts\\animated_branch_1\\leaves.obj&quot;</span><span class=\"w\"> </span><span class=\"nt\">/&gt;</span>\n",
       "<span class=\"w\">                </span><span class=\"nt\">&lt;param</span><span class=\"w\"> </span><span class=\"na\">type=</span><span class=\"s\">&quot;string&quot;</span><span class=\"w\"> </span><span class=\"na\">key=</span><span class=\"s\">&quot;up&quot;</span><span class=\"w\"> </span><span class=\"na\">value=</span><span class=\"s\">&quot;z&quot;</span><span class=\"w\"> </span><span class=\"nt\">/&gt;</span>\n",
       "<span class=\"w\">            </span><span class=\"nt\">&lt;/filter&gt;</span>\n",
       "<span class=\"w\">            </span>\n",
       "<span class=\"w\">            </span>\n",
       "<span class=\"w\">            </span><span class=\"nt\">&lt;dmotion</span><span class=\"w\"> </span><span class=\"na\">id=</span><span class=\"s\">&quot;leaves_0&quot;</span><span class=\"w\"> </span><span class=\"na\">loop=</span><span class=\"s\">&quot;1&quot;</span><span class=\"w\"> </span><span class=\"na\">next=</span><span class=\"s\">&quot;leaves_1&quot;</span><span class=\"nt\">&gt;</span>\n",
       "<span class=\"w\">              </span><span class=\"nt\">&lt;motion</span><span class=\"w\"> </span><span class=\"na\">type=</span><span class=\"s\">&quot;rotation&quot;</span><span class=\"w\"> </span><span class=\"na\">axis=</span><span class=\"s\">&quot;0.000;1.000;0.000&quot;</span><span class=\"w\"> </span><span class=\"na\">angle=</span><span class=\"s\">&quot;0.00000000&quot;</span><span class=\"w\"> </span><span class=\"na\">center=</span><span class=\"s\">&quot;0.00000000;0.00000000;0.00000000&quot;</span><span class=\"w\"> </span><span class=\"na\">autoCRS=</span><span class=\"s\">&quot;1&quot;</span><span class=\"w\"> </span><span class=\"nt\">/&gt;</span>\n",
       "<span class=\"w\">              </span><span class=\"nt\">&lt;motion</span><span class=\"w\"> </span><span class=\"na\">type=</span><span class=\"s\">&quot;translation&quot;</span><span class=\"w\"> </span><span class=\"na\">vec=</span><span class=\"s\">&quot;0.00000000;0.00000000;0.00000000&quot;</span><span class=\"w\"> </span><span class=\"nt\">/&gt;</span>\n",
       "<span class=\"w\">            </span><span class=\"nt\">&lt;/dmotion&gt;</span>\n",
       "<span class=\"w\">            </span>\n",
       "<span class=\"w\">            </span><span class=\"nt\">&lt;dmotion</span><span class=\"w\"> </span><span class=\"na\">id=</span><span class=\"s\">&quot;leaves_1&quot;</span><span class=\"w\"> </span><span class=\"na\">loop=</span><span class=\"s\">&quot;1&quot;</span><span class=\"w\"> </span><span class=\"na\">next=</span><span class=\"s\">&quot;leaves_2&quot;</span><span class=\"nt\">&gt;</span>\n",
       "<span class=\"w\">              </span><span class=\"nt\">&lt;motion</span><span class=\"w\"> </span><span class=\"na\">type=</span><span class=\"s\">&quot;rotation&quot;</span><span class=\"w\"> </span><span class=\"na\">axis=</span><span class=\"s\">&quot;0.000;1.000;0.000&quot;</span><span class=\"w\"> </span><span class=\"na\">angle=</span><span class=\"s\">&quot;0.00000000&quot;</span><span class=\"w\"> </span><span class=\"na\">center=</span><span class=\"s\">&quot;0.00000000;0.00000000;0.00000000&quot;</span><span class=\"w\"> </span><span class=\"na\">autoCRS=</span><span class=\"s\">&quot;1&quot;</span><span class=\"w\"> </span><span class=\"nt\">/&gt;</span>\n",
       "<span class=\"w\">              </span><span class=\"nt\">&lt;motion</span><span class=\"w\"> </span><span class=\"na\">type=</span><span class=\"s\">&quot;translation&quot;</span><span class=\"w\"> </span><span class=\"na\">vec=</span><span class=\"s\">&quot;0.00000000;0.00000000;0.00000000&quot;</span><span class=\"w\"> </span><span class=\"nt\">/&gt;</span>\n",
       "<span class=\"w\">            </span><span class=\"nt\">&lt;/dmotion&gt;</span>\n",
       "<span class=\"w\">            </span>\n",
       "<span class=\"w\">            </span><span class=\"nt\">&lt;dmotion</span><span class=\"w\"> </span><span class=\"na\">id=</span><span class=\"s\">&quot;leaves_2&quot;</span><span class=\"w\"> </span><span class=\"na\">loop=</span><span class=\"s\">&quot;1&quot;</span><span class=\"w\"> </span><span class=\"na\">next=</span><span class=\"s\">&quot;leaves_3&quot;</span><span class=\"nt\">&gt;</span>\n",
       "<span class=\"w\">              </span><span class=\"nt\">&lt;motion</span><span class=\"w\"> </span><span class=\"na\">type=</span><span class=\"s\">&quot;rotation&quot;</span><span class=\"w\"> </span><span class=\"na\">axis=</span><span class=\"s\">&quot;0.000;1.000;0.000&quot;</span><span class=\"w\"> </span><span class=\"na\">angle=</span><span class=\"s\">&quot;0.00000000&quot;</span><span class=\"w\"> </span><span class=\"na\">center=</span><span class=\"s\">&quot;0.00000000;0.00000000;0.00000000&quot;</span><span class=\"w\"> </span><span class=\"na\">autoCRS=</span><span class=\"s\">&quot;1&quot;</span><span class=\"w\"> </span><span class=\"nt\">/&gt;</span>\n",
       "<span class=\"w\">              </span><span class=\"nt\">&lt;motion</span><span class=\"w\"> </span><span class=\"na\">type=</span><span class=\"s\">&quot;translation&quot;</span><span class=\"w\"> </span><span class=\"na\">vec=</span><span class=\"s\">&quot;0.00000000;0.00000000;0.00000000&quot;</span><span class=\"w\"> </span><span class=\"nt\">/&gt;</span>\n",
       "<span class=\"w\">            </span><span class=\"nt\">&lt;/dmotion&gt;</span>\n",
       "<span class=\"w\">            </span>\n",
       "</pre></div>\n"
      ],
      "text/latex": [
       "\\begin{Verbatim}[commandchars=\\\\\\{\\}]\n",
       "\\PY{n+nt}{\\PYZlt{}document}\\PY{n+nt}{\\PYZgt{}}\n",
       "\\PY{+w}{    }\\PY{n+nt}{\\PYZlt{}scene}\\PY{+w}{ }\\PY{n+na}{id=}\\PY{l+s}{\\PYZdq{}dyn\\PYZus{}scene\\PYZdq{}}\\PY{+w}{ }\\PY{n+na}{name=}\\PY{l+s}{\\PYZdq{}Dynamic scene\\PYZdq{}}\\PY{+w}{ }\\PY{n+na}{dynTimeStep=}\\PY{l+s}{\\PYZdq{}0.020833333333333332\\PYZdq{}}\\PY{n+nt}{\\PYZgt{}}\n",
       "\\PY{+w}{        }\\PY{n+nt}{\\PYZlt{}part}\\PY{n+nt}{\\PYZgt{}}\n",
       "\\PY{+w}{            }\\PY{n+nt}{\\PYZlt{}filter}\\PY{+w}{ }\\PY{n+na}{type=}\\PY{l+s}{\\PYZdq{}objloader\\PYZdq{}}\\PY{n+nt}{\\PYZgt{}}\n",
       "\\PY{+w}{                }\\PY{n+nt}{\\PYZlt{}param}\\PY{+w}{ }\\PY{n+na}{type=}\\PY{l+s}{\\PYZdq{}string\\PYZdq{}}\\PY{+w}{ }\\PY{n+na}{key=}\\PY{l+s}{\\PYZdq{}filepath\\PYZdq{}}\\PY{+w}{ }\\PY{n+na}{value=}\\PY{l+s}{\\PYZdq{}data/sceneparts/box/box\\PYZus{}unit\\PYZus{}test.obj\\PYZdq{}}\\PY{+w}{ }\\PY{n+nt}{/\\PYZgt{}}\n",
       "\\PY{+w}{                }\\PY{n+nt}{\\PYZlt{}param}\\PY{+w}{ }\\PY{n+na}{type=}\\PY{l+s}{\\PYZdq{}string\\PYZdq{}}\\PY{+w}{ }\\PY{n+na}{key=}\\PY{l+s}{\\PYZdq{}up\\PYZdq{}}\\PY{+w}{ }\\PY{n+na}{value=}\\PY{l+s}{\\PYZdq{}z\\PYZdq{}}\\PY{+w}{ }\\PY{n+nt}{/\\PYZgt{}}\n",
       "\\PY{+w}{            }\\PY{n+nt}{\\PYZlt{}/filter\\PYZgt{}}\n",
       "\\PY{+w}{            }\\PY{n+nt}{\\PYZlt{}filter}\\PY{+w}{ }\\PY{n+na}{type=}\\PY{l+s}{\\PYZdq{}scale\\PYZdq{}}\\PY{n+nt}{\\PYZgt{}}\n",
       "\\PY{+w}{                }\\PY{n+nt}{\\PYZlt{}param}\\PY{+w}{ }\\PY{n+na}{type=}\\PY{l+s}{\\PYZdq{}double\\PYZdq{}}\\PY{+w}{ }\\PY{n+na}{key=}\\PY{l+s}{\\PYZdq{}scale\\PYZdq{}}\\PY{+w}{ }\\PY{n+na}{value=}\\PY{l+s}{\\PYZdq{}0.15\\PYZdq{}}\\PY{+w}{ }\\PY{n+nt}{/\\PYZgt{}}\n",
       "\\PY{+w}{            }\\PY{n+nt}{\\PYZlt{}/filter\\PYZgt{}}\n",
       "\\PY{+w}{        }\\PY{n+nt}{\\PYZlt{}/part\\PYZgt{}}\n",
       "\\PY{+w}{        }\\PY{c+cm}{\\PYZlt{}!\\PYZhy{}\\PYZhy{}Dynamic scenepart\\PYZhy{}\\PYZhy{}\\PYZgt{}}\n",
       "\\PY{+w}{        }\\PY{n+nt}{\\PYZlt{}part}\\PY{n+nt}{\\PYZgt{}}\n",
       "\\PY{+w}{            }\\PY{n+nt}{\\PYZlt{}filter}\\PY{+w}{ }\\PY{n+na}{type=}\\PY{l+s}{\\PYZdq{}objloader\\PYZdq{}}\\PY{n+nt}{\\PYZgt{}}\n",
       "\\PY{+w}{                }\\PY{n+nt}{\\PYZlt{}param}\\PY{+w}{ }\\PY{n+na}{type=}\\PY{l+s}{\\PYZdq{}string\\PYZdq{}}\\PY{+w}{ }\\PY{n+na}{key=}\\PY{l+s}{\\PYZdq{}filepath\\PYZdq{}}\\PY{+w}{ }\\PY{n+na}{value=}\\PY{l+s}{\\PYZdq{}data\\PYZbs{}sceneparts\\PYZbs{}animated\\PYZus{}branch\\PYZus{}1\\PYZbs{}leaves.obj\\PYZdq{}}\\PY{+w}{ }\\PY{n+nt}{/\\PYZgt{}}\n",
       "\\PY{+w}{                }\\PY{n+nt}{\\PYZlt{}param}\\PY{+w}{ }\\PY{n+na}{type=}\\PY{l+s}{\\PYZdq{}string\\PYZdq{}}\\PY{+w}{ }\\PY{n+na}{key=}\\PY{l+s}{\\PYZdq{}up\\PYZdq{}}\\PY{+w}{ }\\PY{n+na}{value=}\\PY{l+s}{\\PYZdq{}z\\PYZdq{}}\\PY{+w}{ }\\PY{n+nt}{/\\PYZgt{}}\n",
       "\\PY{+w}{            }\\PY{n+nt}{\\PYZlt{}/filter\\PYZgt{}}\n",
       "\\PY{+w}{            }\n",
       "\\PY{+w}{            }\n",
       "\\PY{+w}{            }\\PY{n+nt}{\\PYZlt{}dmotion}\\PY{+w}{ }\\PY{n+na}{id=}\\PY{l+s}{\\PYZdq{}leaves\\PYZus{}0\\PYZdq{}}\\PY{+w}{ }\\PY{n+na}{loop=}\\PY{l+s}{\\PYZdq{}1\\PYZdq{}}\\PY{+w}{ }\\PY{n+na}{next=}\\PY{l+s}{\\PYZdq{}leaves\\PYZus{}1\\PYZdq{}}\\PY{n+nt}{\\PYZgt{}}\n",
       "\\PY{+w}{              }\\PY{n+nt}{\\PYZlt{}motion}\\PY{+w}{ }\\PY{n+na}{type=}\\PY{l+s}{\\PYZdq{}rotation\\PYZdq{}}\\PY{+w}{ }\\PY{n+na}{axis=}\\PY{l+s}{\\PYZdq{}0.000;1.000;0.000\\PYZdq{}}\\PY{+w}{ }\\PY{n+na}{angle=}\\PY{l+s}{\\PYZdq{}0.00000000\\PYZdq{}}\\PY{+w}{ }\\PY{n+na}{center=}\\PY{l+s}{\\PYZdq{}0.00000000;0.00000000;0.00000000\\PYZdq{}}\\PY{+w}{ }\\PY{n+na}{autoCRS=}\\PY{l+s}{\\PYZdq{}1\\PYZdq{}}\\PY{+w}{ }\\PY{n+nt}{/\\PYZgt{}}\n",
       "\\PY{+w}{              }\\PY{n+nt}{\\PYZlt{}motion}\\PY{+w}{ }\\PY{n+na}{type=}\\PY{l+s}{\\PYZdq{}translation\\PYZdq{}}\\PY{+w}{ }\\PY{n+na}{vec=}\\PY{l+s}{\\PYZdq{}0.00000000;0.00000000;0.00000000\\PYZdq{}}\\PY{+w}{ }\\PY{n+nt}{/\\PYZgt{}}\n",
       "\\PY{+w}{            }\\PY{n+nt}{\\PYZlt{}/dmotion\\PYZgt{}}\n",
       "\\PY{+w}{            }\n",
       "\\PY{+w}{            }\\PY{n+nt}{\\PYZlt{}dmotion}\\PY{+w}{ }\\PY{n+na}{id=}\\PY{l+s}{\\PYZdq{}leaves\\PYZus{}1\\PYZdq{}}\\PY{+w}{ }\\PY{n+na}{loop=}\\PY{l+s}{\\PYZdq{}1\\PYZdq{}}\\PY{+w}{ }\\PY{n+na}{next=}\\PY{l+s}{\\PYZdq{}leaves\\PYZus{}2\\PYZdq{}}\\PY{n+nt}{\\PYZgt{}}\n",
       "\\PY{+w}{              }\\PY{n+nt}{\\PYZlt{}motion}\\PY{+w}{ }\\PY{n+na}{type=}\\PY{l+s}{\\PYZdq{}rotation\\PYZdq{}}\\PY{+w}{ }\\PY{n+na}{axis=}\\PY{l+s}{\\PYZdq{}0.000;1.000;0.000\\PYZdq{}}\\PY{+w}{ }\\PY{n+na}{angle=}\\PY{l+s}{\\PYZdq{}0.00000000\\PYZdq{}}\\PY{+w}{ }\\PY{n+na}{center=}\\PY{l+s}{\\PYZdq{}0.00000000;0.00000000;0.00000000\\PYZdq{}}\\PY{+w}{ }\\PY{n+na}{autoCRS=}\\PY{l+s}{\\PYZdq{}1\\PYZdq{}}\\PY{+w}{ }\\PY{n+nt}{/\\PYZgt{}}\n",
       "\\PY{+w}{              }\\PY{n+nt}{\\PYZlt{}motion}\\PY{+w}{ }\\PY{n+na}{type=}\\PY{l+s}{\\PYZdq{}translation\\PYZdq{}}\\PY{+w}{ }\\PY{n+na}{vec=}\\PY{l+s}{\\PYZdq{}0.00000000;0.00000000;0.00000000\\PYZdq{}}\\PY{+w}{ }\\PY{n+nt}{/\\PYZgt{}}\n",
       "\\PY{+w}{            }\\PY{n+nt}{\\PYZlt{}/dmotion\\PYZgt{}}\n",
       "\\PY{+w}{            }\n",
       "\\PY{+w}{            }\\PY{n+nt}{\\PYZlt{}dmotion}\\PY{+w}{ }\\PY{n+na}{id=}\\PY{l+s}{\\PYZdq{}leaves\\PYZus{}2\\PYZdq{}}\\PY{+w}{ }\\PY{n+na}{loop=}\\PY{l+s}{\\PYZdq{}1\\PYZdq{}}\\PY{+w}{ }\\PY{n+na}{next=}\\PY{l+s}{\\PYZdq{}leaves\\PYZus{}3\\PYZdq{}}\\PY{n+nt}{\\PYZgt{}}\n",
       "\\PY{+w}{              }\\PY{n+nt}{\\PYZlt{}motion}\\PY{+w}{ }\\PY{n+na}{type=}\\PY{l+s}{\\PYZdq{}rotation\\PYZdq{}}\\PY{+w}{ }\\PY{n+na}{axis=}\\PY{l+s}{\\PYZdq{}0.000;1.000;0.000\\PYZdq{}}\\PY{+w}{ }\\PY{n+na}{angle=}\\PY{l+s}{\\PYZdq{}0.00000000\\PYZdq{}}\\PY{+w}{ }\\PY{n+na}{center=}\\PY{l+s}{\\PYZdq{}0.00000000;0.00000000;0.00000000\\PYZdq{}}\\PY{+w}{ }\\PY{n+na}{autoCRS=}\\PY{l+s}{\\PYZdq{}1\\PYZdq{}}\\PY{+w}{ }\\PY{n+nt}{/\\PYZgt{}}\n",
       "\\PY{+w}{              }\\PY{n+nt}{\\PYZlt{}motion}\\PY{+w}{ }\\PY{n+na}{type=}\\PY{l+s}{\\PYZdq{}translation\\PYZdq{}}\\PY{+w}{ }\\PY{n+na}{vec=}\\PY{l+s}{\\PYZdq{}0.00000000;0.00000000;0.00000000\\PYZdq{}}\\PY{+w}{ }\\PY{n+nt}{/\\PYZgt{}}\n",
       "\\PY{+w}{            }\\PY{n+nt}{\\PYZlt{}/dmotion\\PYZgt{}}\n",
       "\\PY{+w}{            }\n",
       "\\end{Verbatim}\n"
      ],
      "text/plain": [
       "<document>\n",
       "    <scene id=\"dyn_scene\" name=\"Dynamic scene\" dynTimeStep=\"0.020833333333333332\">\n",
       "        <part>\n",
       "            <filter type=\"objloader\">\n",
       "                <param type=\"string\" key=\"filepath\" value=\"data/sceneparts/box/box_unit_test.obj\" />\n",
       "                <param type=\"string\" key=\"up\" value=\"z\" />\n",
       "            </filter>\n",
       "            <filter type=\"scale\">\n",
       "                <param type=\"double\" key=\"scale\" value=\"0.15\" />\n",
       "            </filter>\n",
       "        </part>\n",
       "        <!--Dynamic scenepart-->\n",
       "        <part>\n",
       "            <filter type=\"objloader\">\n",
       "                <param type=\"string\" key=\"filepath\" value=\"data\\sceneparts\\animated_branch_1\\leaves.obj\" />\n",
       "                <param type=\"string\" key=\"up\" value=\"z\" />\n",
       "            </filter>\n",
       "            \n",
       "            \n",
       "            <dmotion id=\"leaves_0\" loop=\"1\" next=\"leaves_1\">\n",
       "              <motion type=\"rotation\" axis=\"0.000;1.000;0.000\" angle=\"0.00000000\" center=\"0.00000000;0.00000000;0.00000000\" autoCRS=\"1\" />\n",
       "              <motion type=\"translation\" vec=\"0.00000000;0.00000000;0.00000000\" />\n",
       "            </dmotion>\n",
       "            \n",
       "            <dmotion id=\"leaves_1\" loop=\"1\" next=\"leaves_2\">\n",
       "              <motion type=\"rotation\" axis=\"0.000;1.000;0.000\" angle=\"0.00000000\" center=\"0.00000000;0.00000000;0.00000000\" autoCRS=\"1\" />\n",
       "              <motion type=\"translation\" vec=\"0.00000000;0.00000000;0.00000000\" />\n",
       "            </dmotion>\n",
       "            \n",
       "            <dmotion id=\"leaves_2\" loop=\"1\" next=\"leaves_3\">\n",
       "              <motion type=\"rotation\" axis=\"0.000;1.000;0.000\" angle=\"0.00000000\" center=\"0.00000000;0.00000000;0.00000000\" autoCRS=\"1\" />\n",
       "              <motion type=\"translation\" vec=\"0.00000000;0.00000000;0.00000000\" />\n",
       "            </dmotion>\n",
       "            "
      ]
     },
     "execution_count": 3,
     "metadata": {},
     "output_type": "execute_result"
    }
   ],
   "source": [
    "Code(display_xml('data/scenes/branch_anim_1.xml', line_limit=34), language='XML')"
   ]
  },
  {
   "cell_type": "markdown",
   "id": "c3b1d26b-6fa3-4c44-b1df-148209e3690d",
   "metadata": {},
   "source": [
    "Such a scene is of course difficult to write from scratch. We created this scene using the `dyn_b2h` [Blender add-on](https://github.com/3dgeo-heidelberg/dyn_b2h) for exporting Blender animations to HELIOS++ scenes. The add-on supports translations and rotations and before starting the export, the animation should be baked to keyframes. Find the corresponding .blend file here: TODO\n",
    "\n",
    "Let's have a quick look again what the static base scene looks like in 3D:"
   ]
  },
  {
   "cell_type": "code",
   "execution_count": 12,
   "id": "443c8463-139e-4163-9b09-67f082b74d59",
   "metadata": {},
   "outputs": [
    {
     "data": {
      "application/vnd.jupyter.widget-view+json": {
       "model_id": "d1a92bb424414badae0f9d4695b7e595",
       "version_major": 2,
       "version_minor": 0
      },
      "text/plain": [
       "Widget(value='<iframe src=\"http://localhost:58840/index.html?ui=P_0x2417ab77c50_4&reconnect=auto\" class=\"pyvis…"
      ]
     },
     "metadata": {},
     "output_type": "display_data"
    }
   ],
   "source": [
    "filepaths = Path('data/sceneparts/animated_branch_1').glob('*.obj')\n",
    "p = pv.Plotter(notebook=True)\n",
    "for f in filepaths:\n",
    "    mesh = pv.read(f)\n",
    "    p.add_mesh(mesh)\n",
    "p.camera_position = 'yz'\n",
    "p.show()"
   ]
  },
  {
   "cell_type": "markdown",
   "id": "e1c0dea3-a06b-4de1-b371-7f68352ed38d",
   "metadata": {},
   "source": [
    "It's leaning to the right, and during the simulation, it will rotate around its bottom until it is leaning to the left."
   ]
  },
  {
   "cell_type": "markdown",
   "id": "8ec3a607-84e8-4bcb-bc3b-c30b043ea55f",
   "metadata": {},
   "source": [
    "### The survey\n",
    "\n",
    "The branch is simply scanned from a single position with a model of the *RIEGL* VZ-600i, which - as it supports a super high pulse frequency of 2,2 MHz - rotates pretty fast."
   ]
  },
  {
   "cell_type": "code",
   "execution_count": 6,
   "id": "847404d8-d046-471a-88ab-94bb4939e434",
   "metadata": {},
   "outputs": [
    {
     "data": {
      "text/html": [
       "<style>pre { line-height: 125%; }\n",
       "td.linenos .normal { color: inherit; background-color: transparent; padding-left: 5px; padding-right: 5px; }\n",
       "span.linenos { color: inherit; background-color: transparent; padding-left: 5px; padding-right: 5px; }\n",
       "td.linenos .special { color: #000000; background-color: #ffffc0; padding-left: 5px; padding-right: 5px; }\n",
       "span.linenos.special { color: #000000; background-color: #ffffc0; padding-left: 5px; padding-right: 5px; }\n",
       ".output_html .hll { background-color: #ffffcc }\n",
       ".output_html { background: #f8f8f8; }\n",
       ".output_html .c { color: #3D7B7B; font-style: italic } /* Comment */\n",
       ".output_html .err { border: 1px solid #F00 } /* Error */\n",
       ".output_html .k { color: #008000; font-weight: bold } /* Keyword */\n",
       ".output_html .o { color: #666 } /* Operator */\n",
       ".output_html .ch { color: #3D7B7B; font-style: italic } /* Comment.Hashbang */\n",
       ".output_html .cm { color: #3D7B7B; font-style: italic } /* Comment.Multiline */\n",
       ".output_html .cp { color: #9C6500 } /* Comment.Preproc */\n",
       ".output_html .cpf { color: #3D7B7B; font-style: italic } /* Comment.PreprocFile */\n",
       ".output_html .c1 { color: #3D7B7B; font-style: italic } /* Comment.Single */\n",
       ".output_html .cs { color: #3D7B7B; font-style: italic } /* Comment.Special */\n",
       ".output_html .gd { color: #A00000 } /* Generic.Deleted */\n",
       ".output_html .ge { font-style: italic } /* Generic.Emph */\n",
       ".output_html .ges { font-weight: bold; font-style: italic } /* Generic.EmphStrong */\n",
       ".output_html .gr { color: #E40000 } /* Generic.Error */\n",
       ".output_html .gh { color: #000080; font-weight: bold } /* Generic.Heading */\n",
       ".output_html .gi { color: #008400 } /* Generic.Inserted */\n",
       ".output_html .go { color: #717171 } /* Generic.Output */\n",
       ".output_html .gp { color: #000080; font-weight: bold } /* Generic.Prompt */\n",
       ".output_html .gs { font-weight: bold } /* Generic.Strong */\n",
       ".output_html .gu { color: #800080; font-weight: bold } /* Generic.Subheading */\n",
       ".output_html .gt { color: #04D } /* Generic.Traceback */\n",
       ".output_html .kc { color: #008000; font-weight: bold } /* Keyword.Constant */\n",
       ".output_html .kd { color: #008000; font-weight: bold } /* Keyword.Declaration */\n",
       ".output_html .kn { color: #008000; font-weight: bold } /* Keyword.Namespace */\n",
       ".output_html .kp { color: #008000 } /* Keyword.Pseudo */\n",
       ".output_html .kr { color: #008000; font-weight: bold } /* Keyword.Reserved */\n",
       ".output_html .kt { color: #B00040 } /* Keyword.Type */\n",
       ".output_html .m { color: #666 } /* Literal.Number */\n",
       ".output_html .s { color: #BA2121 } /* Literal.String */\n",
       ".output_html .na { color: #687822 } /* Name.Attribute */\n",
       ".output_html .nb { color: #008000 } /* Name.Builtin */\n",
       ".output_html .nc { color: #00F; font-weight: bold } /* Name.Class */\n",
       ".output_html .no { color: #800 } /* Name.Constant */\n",
       ".output_html .nd { color: #A2F } /* Name.Decorator */\n",
       ".output_html .ni { color: #717171; font-weight: bold } /* Name.Entity */\n",
       ".output_html .ne { color: #CB3F38; font-weight: bold } /* Name.Exception */\n",
       ".output_html .nf { color: #00F } /* Name.Function */\n",
       ".output_html .nl { color: #767600 } /* Name.Label */\n",
       ".output_html .nn { color: #00F; font-weight: bold } /* Name.Namespace */\n",
       ".output_html .nt { color: #008000; font-weight: bold } /* Name.Tag */\n",
       ".output_html .nv { color: #19177C } /* Name.Variable */\n",
       ".output_html .ow { color: #A2F; font-weight: bold } /* Operator.Word */\n",
       ".output_html .w { color: #BBB } /* Text.Whitespace */\n",
       ".output_html .mb { color: #666 } /* Literal.Number.Bin */\n",
       ".output_html .mf { color: #666 } /* Literal.Number.Float */\n",
       ".output_html .mh { color: #666 } /* Literal.Number.Hex */\n",
       ".output_html .mi { color: #666 } /* Literal.Number.Integer */\n",
       ".output_html .mo { color: #666 } /* Literal.Number.Oct */\n",
       ".output_html .sa { color: #BA2121 } /* Literal.String.Affix */\n",
       ".output_html .sb { color: #BA2121 } /* Literal.String.Backtick */\n",
       ".output_html .sc { color: #BA2121 } /* Literal.String.Char */\n",
       ".output_html .dl { color: #BA2121 } /* Literal.String.Delimiter */\n",
       ".output_html .sd { color: #BA2121; font-style: italic } /* Literal.String.Doc */\n",
       ".output_html .s2 { color: #BA2121 } /* Literal.String.Double */\n",
       ".output_html .se { color: #AA5D1F; font-weight: bold } /* Literal.String.Escape */\n",
       ".output_html .sh { color: #BA2121 } /* Literal.String.Heredoc */\n",
       ".output_html .si { color: #A45A77; font-weight: bold } /* Literal.String.Interpol */\n",
       ".output_html .sx { color: #008000 } /* Literal.String.Other */\n",
       ".output_html .sr { color: #A45A77 } /* Literal.String.Regex */\n",
       ".output_html .s1 { color: #BA2121 } /* Literal.String.Single */\n",
       ".output_html .ss { color: #19177C } /* Literal.String.Symbol */\n",
       ".output_html .bp { color: #008000 } /* Name.Builtin.Pseudo */\n",
       ".output_html .fm { color: #00F } /* Name.Function.Magic */\n",
       ".output_html .vc { color: #19177C } /* Name.Variable.Class */\n",
       ".output_html .vg { color: #19177C } /* Name.Variable.Global */\n",
       ".output_html .vi { color: #19177C } /* Name.Variable.Instance */\n",
       ".output_html .vm { color: #19177C } /* Name.Variable.Magic */\n",
       ".output_html .il { color: #666 } /* Literal.Number.Integer.Long */</style><div class=\"highlight\"><pre><span></span><span class=\"nt\">&lt;document&gt;</span>\n",
       "<span class=\"w\">        </span><span class=\"nt\">&lt;scannerSettings</span><span class=\"w\"> </span><span class=\"na\">id=</span><span class=\"s\">&quot;tls&quot;</span><span class=\"w\"> </span><span class=\"na\">active=</span><span class=\"s\">&quot;true&quot;</span><span class=\"w\"> </span><span class=\"na\">pulseFreq_hz=</span><span class=\"s\">&quot;2200000&quot;</span><span class=\"w\"> </span><span class=\"na\">verticalResolution_deg=</span><span class=\"s\">&quot;0.017&quot;</span><span class=\"w\"> </span><span class=\"na\">horizontalResolution_deg=</span><span class=\"s\">&quot;0.017&quot;</span><span class=\"w\"> </span><span class=\"nt\">/&gt;</span>\n",
       "<span class=\"w\">        </span><span class=\"nt\">&lt;survey</span><span class=\"w\"> </span><span class=\"na\">name=</span><span class=\"s\">&quot;branch_anim_1&quot;</span><span class=\"w\"> </span><span class=\"na\">platform=</span><span class=\"s\">&quot;data/platforms.xml#tripod&quot;</span><span class=\"w\"> </span><span class=\"na\">scanner=</span><span class=\"s\">&quot;data/scanners_tls_custom.xml#riegl_vz600i&quot;</span><span class=\"w\"> </span><span class=\"na\">scene=</span><span class=\"s\">&quot;data/scenes/branch_anim_1.xml#dyn_scene&quot;</span><span class=\"nt\">&gt;</span>\n",
       "<span class=\"w\">        </span><span class=\"nt\">&lt;leg&gt;</span>\n",
       "<span class=\"w\">            </span><span class=\"nt\">&lt;platformSettings</span><span class=\"w\"> </span><span class=\"na\">x=</span><span class=\"s\">&quot;-5&quot;</span><span class=\"w\"> </span><span class=\"na\">y=</span><span class=\"s\">&quot;0&quot;</span><span class=\"w\"> </span><span class=\"na\">z=</span><span class=\"s\">&quot;0&quot;</span><span class=\"w\"> </span><span class=\"nt\">/&gt;</span>\n",
       "<span class=\"w\">            </span><span class=\"nt\">&lt;scannerSettings</span><span class=\"w\"> </span><span class=\"na\">template=</span><span class=\"s\">&quot;tls&quot;</span><span class=\"w\"> </span><span class=\"na\">headRotateStart_deg=</span><span class=\"s\">&quot;260&quot;</span><span class=\"w\"> </span><span class=\"na\">headRotateStop_deg=</span><span class=\"s\">&quot;280&quot;</span><span class=\"w\"> </span><span class=\"na\">trajectoryTimeInterval_s=</span><span class=\"s\">&quot;0.05&quot;</span><span class=\"w\"> </span><span class=\"nt\">/&gt;</span>\n",
       "<span class=\"w\">        </span><span class=\"nt\">&lt;/leg&gt;</span>\n",
       "<span class=\"w\">        </span>\n",
       "<span class=\"w\">        </span><span class=\"nt\">&lt;/survey&gt;</span>\n",
       "<span class=\"w\">    </span><span class=\"nt\">&lt;/document&gt;</span>\n",
       "</pre></div>\n"
      ],
      "text/latex": [
       "\\begin{Verbatim}[commandchars=\\\\\\{\\}]\n",
       "\\PY{n+nt}{\\PYZlt{}document}\\PY{n+nt}{\\PYZgt{}}\n",
       "\\PY{+w}{        }\\PY{n+nt}{\\PYZlt{}scannerSettings}\\PY{+w}{ }\\PY{n+na}{id=}\\PY{l+s}{\\PYZdq{}tls\\PYZdq{}}\\PY{+w}{ }\\PY{n+na}{active=}\\PY{l+s}{\\PYZdq{}true\\PYZdq{}}\\PY{+w}{ }\\PY{n+na}{pulseFreq\\PYZus{}hz=}\\PY{l+s}{\\PYZdq{}2200000\\PYZdq{}}\\PY{+w}{ }\\PY{n+na}{verticalResolution\\PYZus{}deg=}\\PY{l+s}{\\PYZdq{}0.017\\PYZdq{}}\\PY{+w}{ }\\PY{n+na}{horizontalResolution\\PYZus{}deg=}\\PY{l+s}{\\PYZdq{}0.017\\PYZdq{}}\\PY{+w}{ }\\PY{n+nt}{/\\PYZgt{}}\n",
       "\\PY{+w}{        }\\PY{n+nt}{\\PYZlt{}survey}\\PY{+w}{ }\\PY{n+na}{name=}\\PY{l+s}{\\PYZdq{}branch\\PYZus{}anim\\PYZus{}1\\PYZdq{}}\\PY{+w}{ }\\PY{n+na}{platform=}\\PY{l+s}{\\PYZdq{}data/platforms.xml\\PYZsh{}tripod\\PYZdq{}}\\PY{+w}{ }\\PY{n+na}{scanner=}\\PY{l+s}{\\PYZdq{}data/scanners\\PYZus{}tls\\PYZus{}custom.xml\\PYZsh{}riegl\\PYZus{}vz600i\\PYZdq{}}\\PY{+w}{ }\\PY{n+na}{scene=}\\PY{l+s}{\\PYZdq{}data/scenes/branch\\PYZus{}anim\\PYZus{}1.xml\\PYZsh{}dyn\\PYZus{}scene\\PYZdq{}}\\PY{n+nt}{\\PYZgt{}}\n",
       "\\PY{+w}{        }\\PY{n+nt}{\\PYZlt{}leg}\\PY{n+nt}{\\PYZgt{}}\n",
       "\\PY{+w}{            }\\PY{n+nt}{\\PYZlt{}platformSettings}\\PY{+w}{ }\\PY{n+na}{x=}\\PY{l+s}{\\PYZdq{}\\PYZhy{}5\\PYZdq{}}\\PY{+w}{ }\\PY{n+na}{y=}\\PY{l+s}{\\PYZdq{}0\\PYZdq{}}\\PY{+w}{ }\\PY{n+na}{z=}\\PY{l+s}{\\PYZdq{}0\\PYZdq{}}\\PY{+w}{ }\\PY{n+nt}{/\\PYZgt{}}\n",
       "\\PY{+w}{            }\\PY{n+nt}{\\PYZlt{}scannerSettings}\\PY{+w}{ }\\PY{n+na}{template=}\\PY{l+s}{\\PYZdq{}tls\\PYZdq{}}\\PY{+w}{ }\\PY{n+na}{headRotateStart\\PYZus{}deg=}\\PY{l+s}{\\PYZdq{}260\\PYZdq{}}\\PY{+w}{ }\\PY{n+na}{headRotateStop\\PYZus{}deg=}\\PY{l+s}{\\PYZdq{}280\\PYZdq{}}\\PY{+w}{ }\\PY{n+na}{trajectoryTimeInterval\\PYZus{}s=}\\PY{l+s}{\\PYZdq{}0.05\\PYZdq{}}\\PY{+w}{ }\\PY{n+nt}{/\\PYZgt{}}\n",
       "\\PY{+w}{        }\\PY{n+nt}{\\PYZlt{}/leg\\PYZgt{}}\n",
       "\\PY{+w}{        }\n",
       "\\PY{+w}{        }\\PY{n+nt}{\\PYZlt{}/survey\\PYZgt{}}\n",
       "\\PY{+w}{    }\\PY{n+nt}{\\PYZlt{}/document\\PYZgt{}}\n",
       "\\end{Verbatim}\n"
      ],
      "text/plain": [
       "<document>\n",
       "        <scannerSettings id=\"tls\" active=\"true\" pulseFreq_hz=\"2200000\" verticalResolution_deg=\"0.017\" horizontalResolution_deg=\"0.017\" />\n",
       "        <survey name=\"branch_anim_1\" platform=\"data/platforms.xml#tripod\" scanner=\"data/scanners_tls_custom.xml#riegl_vz600i\" scene=\"data/scenes/branch_anim_1.xml#dyn_scene\">\n",
       "        <leg>\n",
       "            <platformSettings x=\"-5\" y=\"0\" z=\"0\" />\n",
       "            <scannerSettings template=\"tls\" headRotateStart_deg=\"260\" headRotateStop_deg=\"280\" trajectoryTimeInterval_s=\"0.05\" />\n",
       "        </leg>\n",
       "        \n",
       "        </survey>\n",
       "    </document>"
      ]
     },
     "execution_count": 6,
     "metadata": {},
     "output_type": "execute_result"
    }
   ],
   "source": [
    "Code(display_xml('data/surveys/branch_anim_1.xml'), language='XML')"
   ]
  },
  {
   "cell_type": "markdown",
   "id": "a44273b4-e473-4629-8a54-0c18d29da110",
   "metadata": {},
   "source": [
    "### Executing the simulation"
   ]
  },
  {
   "cell_type": "code",
   "execution_count": null,
   "id": "733a6660-3cc7-45f3-afce-183e06b8a1d5",
   "metadata": {},
   "outputs": [],
   "source": [
    "!helios data/surveys/branch_anim_1.xml -q --lasOutput --zipOutput --rebuildScene"
   ]
  },
  {
   "cell_type": "code",
   "execution_count": 7,
   "id": "cd14f020-b402-42f9-a746-bec900e12ae9",
   "metadata": {},
   "outputs": [],
   "source": [
    "output_path = Path(find_playback_dir('data/surveys/branch_anim_1.xml'))\n",
    "pc_4d_1, object_id_1, _, _, gps_time_1, _ = read_from_output_folder(output_path)\n",
    "idx = object_id_1 != 0\n",
    "pc_4d_1 = pc_4d_1[idx, :]\n",
    "gps_time_1 = gps_time_1[idx]"
   ]
  },
  {
   "cell_type": "code",
   "execution_count": null,
   "id": "f049052a-287e-425d-8b2f-9d54405f818a",
   "metadata": {},
   "outputs": [],
   "source": [
    "!helios data/surveys/branch_anim_2.xml -q --lasOutput --zipOutput --rebuildScene"
   ]
  },
  {
   "cell_type": "code",
   "execution_count": 8,
   "id": "7ecad8e6-2ef9-49bf-863a-4e643d38571b",
   "metadata": {},
   "outputs": [],
   "source": [
    "output_path = Path(find_playback_dir('data/surveys/branch_anim_2.xml'))\n",
    "pc_4d_2, object_id_2, _, _, gps_time_2, _ = read_from_output_folder(output_path)\n",
    "idx = object_id_2 != 0\n",
    "pc_4d_2 = pc_4d_2[idx, :]\n",
    "gps_time_2 = gps_time_2[idx]"
   ]
  },
  {
   "cell_type": "markdown",
   "id": "6c42deb4-14e2-409d-a699-5a17b40f177c",
   "metadata": {},
   "source": [
    "### Visualizing the output\n",
    "\n",
    "For the first scan, we expect that the resulting point cloud will appear compressed in the y-direction as the branch moves opposite than the scanner. For the second scan, we expect that the branch will appear elongated, as it moves in the same direction than the scanner. Let's have a look."
   ]
  },
  {
   "cell_type": "code",
   "execution_count": 11,
   "id": "cce60a92-ee67-4e71-8305-b538454e3817",
   "metadata": {},
   "outputs": [
    {
     "data": {
      "application/vnd.jupyter.widget-view+json": {
       "model_id": "05909e73d96545d4905a65bbbdff6e14",
       "version_major": 2,
       "version_minor": 0
      },
      "text/plain": [
       "Widget(value='<iframe src=\"http://localhost:58840/index.html?ui=P_0x2417ab76350_3&reconnect=auto\" class=\"pyvis…"
      ]
     },
     "metadata": {},
     "output_type": "display_data"
    }
   ],
   "source": [
    "p = pv.Plotter(notebook=True, shape=(1, 2)) \n",
    "p.add_points(pc_4d_1, \n",
    "             scalars=gps_time_1,\n",
    "             style='points',\n",
    "             cmap='gwv',\n",
    "             point_size=2,\n",
    "             scalar_bar_args={'title': 'GPS Time [s] - scan 1',\n",
    "                              'fmt': '%10.1f',\n",
    "                              'n_labels': 4,\n",
    "                              'position_x': 0.3})\n",
    "p.subplot(0, 1)\n",
    "p.add_points(pc_4d_2, \n",
    "             scalars=gps_time_2,\n",
    "             style='points',\n",
    "             cmap='gwv',\n",
    "             point_size=2,\n",
    "             scalar_bar_args={'title': 'GPS Time [s] - scan 2',\n",
    "                              'fmt': '%10.2f',\n",
    "                              'n_labels': 4,\n",
    "                              'position_x': 0.3})\n",
    "p.link_views()\n",
    "p.camera_position = 'yz'\n",
    "p.camera.zoom(1.4)\n",
    "p.show()"
   ]
  },
  {
   "cell_type": "code",
   "execution_count": null,
   "id": "243ec976-8958-42b1-bffb-9d24a5e1ab62",
   "metadata": {},
   "outputs": [],
   "source": []
  }
 ],
 "metadata": {
  "kernelspec": {
   "display_name": "helios_v202",
   "language": "python",
   "name": "python3"
  },
  "language_info": {
   "codemirror_mode": {
    "name": "ipython",
    "version": 3
   },
   "file_extension": ".py",
   "mimetype": "text/x-python",
   "name": "python",
   "nbconvert_exporter": "python",
   "pygments_lexer": "ipython3",
   "version": "3.13.1"
  }
 },
 "nbformat": 4,
 "nbformat_minor": 5
}
