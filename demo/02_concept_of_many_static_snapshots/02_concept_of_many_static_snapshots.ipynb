{
 "cells": [
  {
   "cell_type": "markdown",
   "id": "ef3fee17-6444-4976-a0dc-33ab4a00592d",
   "metadata": {},
   "source": [
    "# 2 Concept of many static snapshots"
   ]
  },
  {
   "cell_type": "markdown",
   "id": "61ad3598-4739-421a-984f-3f4398627a04",
   "metadata": {},
   "source": [
    "## Imports"
   ]
  },
  {
   "cell_type": "code",
   "execution_count": null,
   "id": "354ed7e2-173e-4361-89a2-afb0ee9c4ae9",
   "metadata": {},
   "outputs": [],
   "source": [
    "from pathlib import Path\n",
    "from IPython.display import Code\n",
    "from scripts.nb_utils import read_pc, read_from_output_folder, display_xml\n",
    "import pyhelios\n",
    "from pyhelios.util.xmldisplayer import find_playback_dir\n",
    "import numpy as np\n",
    "import pyvista as pv\n",
    "pv.set_jupyter_backend('trame')\n",
    "import laspy"
   ]
  },
  {
   "cell_type": "markdown",
   "id": "546c204d-b271-4730-a45c-dcb3d7c97be4",
   "metadata": {},
   "source": [
    "## Example 2.1: Tree moving in the wind during a multi-station TLS acquisition\n",
    "\n",
    "In multi-station TLS acquisitions, movement of trees can result in duplication (\"re-occurrence\" / \"ghosting effects\") in the point cloud merged from multiple scans. This can be mimicked using the concept of many static snapshots. We start creating a 3D tree model which we animate in the wind using the [Sapling Tree Gen](https://docs.blender.org/manual/en/3.3/addons/add_curve/sapling.html) add-on of Blender and its \"animation\" functionality. We then sample random frames and export the static mesh for this frame of the animation. This can be automatically done with the multi_epoch_b2h Blender add-on in [this repository](https://github.com/3dgeo-heidelberg/dyn_b2h). "
   ]
  },
  {
   "cell_type": "markdown",
   "id": "3663a22e-40a3-46e5-9b55-c8927c56e529",
   "metadata": {},
   "source": [
    "### The scene\n",
    "\n",
    "We exported 6 static scenes which we will virtually scan from six different positions distributed around the scene. Let's look at one of the scenes."
   ]
  },
  {
   "cell_type": "code",
   "execution_count": 4,
   "id": "de0b0541-d2ff-4f6e-a720-cf797f473c2b",
   "metadata": {},
   "outputs": [
    {
     "data": {
      "text/html": [
       "<style>pre { line-height: 125%; }\n",
       "td.linenos .normal { color: inherit; background-color: transparent; padding-left: 5px; padding-right: 5px; }\n",
       "span.linenos { color: inherit; background-color: transparent; padding-left: 5px; padding-right: 5px; }\n",
       "td.linenos .special { color: #000000; background-color: #ffffc0; padding-left: 5px; padding-right: 5px; }\n",
       "span.linenos.special { color: #000000; background-color: #ffffc0; padding-left: 5px; padding-right: 5px; }\n",
       ".output_html .hll { background-color: #ffffcc }\n",
       ".output_html { background: #f8f8f8; }\n",
       ".output_html .c { color: #3D7B7B; font-style: italic } /* Comment */\n",
       ".output_html .err { border: 1px solid #F00 } /* Error */\n",
       ".output_html .k { color: #008000; font-weight: bold } /* Keyword */\n",
       ".output_html .o { color: #666 } /* Operator */\n",
       ".output_html .ch { color: #3D7B7B; font-style: italic } /* Comment.Hashbang */\n",
       ".output_html .cm { color: #3D7B7B; font-style: italic } /* Comment.Multiline */\n",
       ".output_html .cp { color: #9C6500 } /* Comment.Preproc */\n",
       ".output_html .cpf { color: #3D7B7B; font-style: italic } /* Comment.PreprocFile */\n",
       ".output_html .c1 { color: #3D7B7B; font-style: italic } /* Comment.Single */\n",
       ".output_html .cs { color: #3D7B7B; font-style: italic } /* Comment.Special */\n",
       ".output_html .gd { color: #A00000 } /* Generic.Deleted */\n",
       ".output_html .ge { font-style: italic } /* Generic.Emph */\n",
       ".output_html .ges { font-weight: bold; font-style: italic } /* Generic.EmphStrong */\n",
       ".output_html .gr { color: #E40000 } /* Generic.Error */\n",
       ".output_html .gh { color: #000080; font-weight: bold } /* Generic.Heading */\n",
       ".output_html .gi { color: #008400 } /* Generic.Inserted */\n",
       ".output_html .go { color: #717171 } /* Generic.Output */\n",
       ".output_html .gp { color: #000080; font-weight: bold } /* Generic.Prompt */\n",
       ".output_html .gs { font-weight: bold } /* Generic.Strong */\n",
       ".output_html .gu { color: #800080; font-weight: bold } /* Generic.Subheading */\n",
       ".output_html .gt { color: #04D } /* Generic.Traceback */\n",
       ".output_html .kc { color: #008000; font-weight: bold } /* Keyword.Constant */\n",
       ".output_html .kd { color: #008000; font-weight: bold } /* Keyword.Declaration */\n",
       ".output_html .kn { color: #008000; font-weight: bold } /* Keyword.Namespace */\n",
       ".output_html .kp { color: #008000 } /* Keyword.Pseudo */\n",
       ".output_html .kr { color: #008000; font-weight: bold } /* Keyword.Reserved */\n",
       ".output_html .kt { color: #B00040 } /* Keyword.Type */\n",
       ".output_html .m { color: #666 } /* Literal.Number */\n",
       ".output_html .s { color: #BA2121 } /* Literal.String */\n",
       ".output_html .na { color: #687822 } /* Name.Attribute */\n",
       ".output_html .nb { color: #008000 } /* Name.Builtin */\n",
       ".output_html .nc { color: #00F; font-weight: bold } /* Name.Class */\n",
       ".output_html .no { color: #800 } /* Name.Constant */\n",
       ".output_html .nd { color: #A2F } /* Name.Decorator */\n",
       ".output_html .ni { color: #717171; font-weight: bold } /* Name.Entity */\n",
       ".output_html .ne { color: #CB3F38; font-weight: bold } /* Name.Exception */\n",
       ".output_html .nf { color: #00F } /* Name.Function */\n",
       ".output_html .nl { color: #767600 } /* Name.Label */\n",
       ".output_html .nn { color: #00F; font-weight: bold } /* Name.Namespace */\n",
       ".output_html .nt { color: #008000; font-weight: bold } /* Name.Tag */\n",
       ".output_html .nv { color: #19177C } /* Name.Variable */\n",
       ".output_html .ow { color: #A2F; font-weight: bold } /* Operator.Word */\n",
       ".output_html .w { color: #BBB } /* Text.Whitespace */\n",
       ".output_html .mb { color: #666 } /* Literal.Number.Bin */\n",
       ".output_html .mf { color: #666 } /* Literal.Number.Float */\n",
       ".output_html .mh { color: #666 } /* Literal.Number.Hex */\n",
       ".output_html .mi { color: #666 } /* Literal.Number.Integer */\n",
       ".output_html .mo { color: #666 } /* Literal.Number.Oct */\n",
       ".output_html .sa { color: #BA2121 } /* Literal.String.Affix */\n",
       ".output_html .sb { color: #BA2121 } /* Literal.String.Backtick */\n",
       ".output_html .sc { color: #BA2121 } /* Literal.String.Char */\n",
       ".output_html .dl { color: #BA2121 } /* Literal.String.Delimiter */\n",
       ".output_html .sd { color: #BA2121; font-style: italic } /* Literal.String.Doc */\n",
       ".output_html .s2 { color: #BA2121 } /* Literal.String.Double */\n",
       ".output_html .se { color: #AA5D1F; font-weight: bold } /* Literal.String.Escape */\n",
       ".output_html .sh { color: #BA2121 } /* Literal.String.Heredoc */\n",
       ".output_html .si { color: #A45A77; font-weight: bold } /* Literal.String.Interpol */\n",
       ".output_html .sx { color: #008000 } /* Literal.String.Other */\n",
       ".output_html .sr { color: #A45A77 } /* Literal.String.Regex */\n",
       ".output_html .s1 { color: #BA2121 } /* Literal.String.Single */\n",
       ".output_html .ss { color: #19177C } /* Literal.String.Symbol */\n",
       ".output_html .bp { color: #008000 } /* Name.Builtin.Pseudo */\n",
       ".output_html .fm { color: #00F } /* Name.Function.Magic */\n",
       ".output_html .vc { color: #19177C } /* Name.Variable.Class */\n",
       ".output_html .vg { color: #19177C } /* Name.Variable.Global */\n",
       ".output_html .vi { color: #19177C } /* Name.Variable.Instance */\n",
       ".output_html .vm { color: #19177C } /* Name.Variable.Magic */\n",
       ".output_html .il { color: #666 } /* Literal.Number.Integer.Long */</style><div class=\"highlight\"><pre><span></span><span class=\"nt\">&lt;document&gt;</span>\n",
       "<span class=\"w\">    </span><span class=\"nt\">&lt;scene</span><span class=\"w\"> </span><span class=\"na\">id=</span><span class=\"s\">&quot;scene&quot;</span><span class=\"w\"> </span><span class=\"na\">name=</span><span class=\"s\">&quot;Scene&quot;</span><span class=\"nt\">&gt;</span>\n",
       "<span class=\"w\">        </span>\n",
       "<span class=\"w\">        </span><span class=\"nt\">&lt;part&gt;</span>\n",
       "<span class=\"w\">            </span><span class=\"nt\">&lt;filter</span><span class=\"w\"> </span><span class=\"na\">type=</span><span class=\"s\">&quot;objloader&quot;</span><span class=\"nt\">&gt;</span>\n",
       "<span class=\"w\">                </span><span class=\"nt\">&lt;param</span><span class=\"w\"> </span><span class=\"na\">type=</span><span class=\"s\">&quot;string&quot;</span><span class=\"w\"> </span><span class=\"na\">key=</span><span class=\"s\">&quot;filepath&quot;</span><span class=\"w\"> </span><span class=\"na\">value=</span><span class=\"s\">&quot;data\\sceneparts\\white_birch\\leaves_005.obj&quot;</span><span class=\"w\"> </span><span class=\"nt\">/&gt;</span>\n",
       "<span class=\"w\">                </span><span class=\"nt\">&lt;param</span><span class=\"w\"> </span><span class=\"na\">type=</span><span class=\"s\">&quot;string&quot;</span><span class=\"w\"> </span><span class=\"na\">key=</span><span class=\"s\">&quot;up&quot;</span><span class=\"w\"> </span><span class=\"na\">value=</span><span class=\"s\">&quot;z&quot;</span><span class=\"w\"> </span><span class=\"nt\">/&gt;</span>\n",
       "<span class=\"w\">            </span><span class=\"nt\">&lt;/filter&gt;</span>\n",
       "<span class=\"w\">            </span>\n",
       "<span class=\"w\">            </span>\n",
       "<span class=\"w\">        </span><span class=\"nt\">&lt;/part&gt;</span>\n",
       "<span class=\"w\">        </span><span class=\"nt\">&lt;part&gt;</span>\n",
       "<span class=\"w\">            </span><span class=\"nt\">&lt;filter</span><span class=\"w\"> </span><span class=\"na\">type=</span><span class=\"s\">&quot;objloader&quot;</span><span class=\"nt\">&gt;</span>\n",
       "<span class=\"w\">                </span><span class=\"nt\">&lt;param</span><span class=\"w\"> </span><span class=\"na\">type=</span><span class=\"s\">&quot;string&quot;</span><span class=\"w\"> </span><span class=\"na\">key=</span><span class=\"s\">&quot;filepath&quot;</span><span class=\"w\"> </span><span class=\"na\">value=</span><span class=\"s\">&quot;data\\sceneparts\\white_birch\\tree_005.obj&quot;</span><span class=\"w\"> </span><span class=\"nt\">/&gt;</span>\n",
       "<span class=\"w\">                </span><span class=\"nt\">&lt;param</span><span class=\"w\"> </span><span class=\"na\">type=</span><span class=\"s\">&quot;string&quot;</span><span class=\"w\"> </span><span class=\"na\">key=</span><span class=\"s\">&quot;up&quot;</span><span class=\"w\"> </span><span class=\"na\">value=</span><span class=\"s\">&quot;z&quot;</span><span class=\"w\"> </span><span class=\"nt\">/&gt;</span>\n",
       "<span class=\"w\">            </span><span class=\"nt\">&lt;/filter&gt;</span>\n",
       "<span class=\"w\">            </span>\n",
       "<span class=\"w\">            </span>\n",
       "<span class=\"w\">        </span><span class=\"nt\">&lt;/part&gt;</span>\n",
       "<span class=\"w\">    </span><span class=\"nt\">&lt;/scene&gt;</span>\n",
       "<span class=\"nt\">&lt;/document&gt;</span>\n",
       "</pre></div>\n"
      ],
      "text/latex": [
       "\\begin{Verbatim}[commandchars=\\\\\\{\\}]\n",
       "\\PY{n+nt}{\\PYZlt{}document}\\PY{n+nt}{\\PYZgt{}}\n",
       "\\PY{+w}{    }\\PY{n+nt}{\\PYZlt{}scene}\\PY{+w}{ }\\PY{n+na}{id=}\\PY{l+s}{\\PYZdq{}scene\\PYZdq{}}\\PY{+w}{ }\\PY{n+na}{name=}\\PY{l+s}{\\PYZdq{}Scene\\PYZdq{}}\\PY{n+nt}{\\PYZgt{}}\n",
       "\\PY{+w}{        }\n",
       "\\PY{+w}{        }\\PY{n+nt}{\\PYZlt{}part}\\PY{n+nt}{\\PYZgt{}}\n",
       "\\PY{+w}{            }\\PY{n+nt}{\\PYZlt{}filter}\\PY{+w}{ }\\PY{n+na}{type=}\\PY{l+s}{\\PYZdq{}objloader\\PYZdq{}}\\PY{n+nt}{\\PYZgt{}}\n",
       "\\PY{+w}{                }\\PY{n+nt}{\\PYZlt{}param}\\PY{+w}{ }\\PY{n+na}{type=}\\PY{l+s}{\\PYZdq{}string\\PYZdq{}}\\PY{+w}{ }\\PY{n+na}{key=}\\PY{l+s}{\\PYZdq{}filepath\\PYZdq{}}\\PY{+w}{ }\\PY{n+na}{value=}\\PY{l+s}{\\PYZdq{}data\\PYZbs{}sceneparts\\PYZbs{}white\\PYZus{}birch\\PYZbs{}leaves\\PYZus{}005.obj\\PYZdq{}}\\PY{+w}{ }\\PY{n+nt}{/\\PYZgt{}}\n",
       "\\PY{+w}{                }\\PY{n+nt}{\\PYZlt{}param}\\PY{+w}{ }\\PY{n+na}{type=}\\PY{l+s}{\\PYZdq{}string\\PYZdq{}}\\PY{+w}{ }\\PY{n+na}{key=}\\PY{l+s}{\\PYZdq{}up\\PYZdq{}}\\PY{+w}{ }\\PY{n+na}{value=}\\PY{l+s}{\\PYZdq{}z\\PYZdq{}}\\PY{+w}{ }\\PY{n+nt}{/\\PYZgt{}}\n",
       "\\PY{+w}{            }\\PY{n+nt}{\\PYZlt{}/filter\\PYZgt{}}\n",
       "\\PY{+w}{            }\n",
       "\\PY{+w}{            }\n",
       "\\PY{+w}{        }\\PY{n+nt}{\\PYZlt{}/part\\PYZgt{}}\n",
       "\\PY{+w}{        }\\PY{n+nt}{\\PYZlt{}part}\\PY{n+nt}{\\PYZgt{}}\n",
       "\\PY{+w}{            }\\PY{n+nt}{\\PYZlt{}filter}\\PY{+w}{ }\\PY{n+na}{type=}\\PY{l+s}{\\PYZdq{}objloader\\PYZdq{}}\\PY{n+nt}{\\PYZgt{}}\n",
       "\\PY{+w}{                }\\PY{n+nt}{\\PYZlt{}param}\\PY{+w}{ }\\PY{n+na}{type=}\\PY{l+s}{\\PYZdq{}string\\PYZdq{}}\\PY{+w}{ }\\PY{n+na}{key=}\\PY{l+s}{\\PYZdq{}filepath\\PYZdq{}}\\PY{+w}{ }\\PY{n+na}{value=}\\PY{l+s}{\\PYZdq{}data\\PYZbs{}sceneparts\\PYZbs{}white\\PYZus{}birch\\PYZbs{}tree\\PYZus{}005.obj\\PYZdq{}}\\PY{+w}{ }\\PY{n+nt}{/\\PYZgt{}}\n",
       "\\PY{+w}{                }\\PY{n+nt}{\\PYZlt{}param}\\PY{+w}{ }\\PY{n+na}{type=}\\PY{l+s}{\\PYZdq{}string\\PYZdq{}}\\PY{+w}{ }\\PY{n+na}{key=}\\PY{l+s}{\\PYZdq{}up\\PYZdq{}}\\PY{+w}{ }\\PY{n+na}{value=}\\PY{l+s}{\\PYZdq{}z\\PYZdq{}}\\PY{+w}{ }\\PY{n+nt}{/\\PYZgt{}}\n",
       "\\PY{+w}{            }\\PY{n+nt}{\\PYZlt{}/filter\\PYZgt{}}\n",
       "\\PY{+w}{            }\n",
       "\\PY{+w}{            }\n",
       "\\PY{+w}{        }\\PY{n+nt}{\\PYZlt{}/part\\PYZgt{}}\n",
       "\\PY{+w}{    }\\PY{n+nt}{\\PYZlt{}/scene\\PYZgt{}}\n",
       "\\PY{n+nt}{\\PYZlt{}/document\\PYZgt{}}\n",
       "\\end{Verbatim}\n"
      ],
      "text/plain": [
       "<document>\n",
       "    <scene id=\"scene\" name=\"Scene\">\n",
       "        \n",
       "        <part>\n",
       "            <filter type=\"objloader\">\n",
       "                <param type=\"string\" key=\"filepath\" value=\"data\\sceneparts\\white_birch\\leaves_005.obj\" />\n",
       "                <param type=\"string\" key=\"up\" value=\"z\" />\n",
       "            </filter>\n",
       "            \n",
       "            \n",
       "        </part>\n",
       "        <part>\n",
       "            <filter type=\"objloader\">\n",
       "                <param type=\"string\" key=\"filepath\" value=\"data\\sceneparts\\white_birch\\tree_005.obj\" />\n",
       "                <param type=\"string\" key=\"up\" value=\"z\" />\n",
       "            </filter>\n",
       "            \n",
       "            \n",
       "        </part>\n",
       "    </scene>\n",
       "</document>"
      ]
     },
     "execution_count": 4,
     "metadata": {},
     "output_type": "execute_result"
    }
   ],
   "source": [
    "Code(display_xml('data/scenes/white_birch_005.xml'), language='XML')"
   ]
  },
  {
   "cell_type": "markdown",
   "id": "596110d4-5575-498d-b254-34eb5e488f11",
   "metadata": {},
   "source": [
    "If we plot all the scene parts we exported, we can clearly see that the tree moved. This is what is looks like:"
   ]
  },
  {
   "cell_type": "code",
   "execution_count": 7,
   "id": "2b310474-bec0-4827-8ca7-bcd51632a372",
   "metadata": {},
   "outputs": [
    {
     "data": {
      "application/vnd.jupyter.widget-view+json": {
       "model_id": "e241c568a15e44ec8d67e9679b95d0b7",
       "version_major": 2,
       "version_minor": 0
      },
      "text/plain": [
       "Widget(value='<iframe src=\"http://localhost:58579/index.html?ui=P_0x13c326e9590_1&reconnect=auto\" class=\"pyvis…"
      ]
     },
     "metadata": {},
     "output_type": "display_data"
    }
   ],
   "source": [
    "filenames = Path('data/sceneparts/white_birch').glob('*.obj')\n",
    "\n",
    "p = pv.Plotter(notebook=True)\n",
    "for f in filenames:\n",
    "    mesh = pv.read(str(f))\n",
    "    p.add_mesh(mesh)\n",
    "p.camera_position = 'xz'\n",
    "p.camera.zoom(1.5)\n",
    "p.show()"
   ]
  },
  {
   "cell_type": "markdown",
   "id": "3e905c8e-8cf2-488e-960d-da7abb112709",
   "metadata": {},
   "source": [
    "### The survey\n",
    "\n",
    "The corresponding survey looks like this. Note that we are using a custom platforms, which is a TLS tripod with a tilt mount. The scanner is therefore tilted by 90° and scans left to right instead of top to bottom."
   ]
  },
  {
   "cell_type": "code",
   "execution_count": 5,
   "id": "ee7cce78-08f6-43a8-8c98-6de32a63e6ae",
   "metadata": {},
   "outputs": [
    {
     "data": {
      "text/html": [
       "<style>pre { line-height: 125%; }\n",
       "td.linenos .normal { color: inherit; background-color: transparent; padding-left: 5px; padding-right: 5px; }\n",
       "span.linenos { color: inherit; background-color: transparent; padding-left: 5px; padding-right: 5px; }\n",
       "td.linenos .special { color: #000000; background-color: #ffffc0; padding-left: 5px; padding-right: 5px; }\n",
       "span.linenos.special { color: #000000; background-color: #ffffc0; padding-left: 5px; padding-right: 5px; }\n",
       ".output_html .hll { background-color: #ffffcc }\n",
       ".output_html { background: #f8f8f8; }\n",
       ".output_html .c { color: #3D7B7B; font-style: italic } /* Comment */\n",
       ".output_html .err { border: 1px solid #F00 } /* Error */\n",
       ".output_html .k { color: #008000; font-weight: bold } /* Keyword */\n",
       ".output_html .o { color: #666 } /* Operator */\n",
       ".output_html .ch { color: #3D7B7B; font-style: italic } /* Comment.Hashbang */\n",
       ".output_html .cm { color: #3D7B7B; font-style: italic } /* Comment.Multiline */\n",
       ".output_html .cp { color: #9C6500 } /* Comment.Preproc */\n",
       ".output_html .cpf { color: #3D7B7B; font-style: italic } /* Comment.PreprocFile */\n",
       ".output_html .c1 { color: #3D7B7B; font-style: italic } /* Comment.Single */\n",
       ".output_html .cs { color: #3D7B7B; font-style: italic } /* Comment.Special */\n",
       ".output_html .gd { color: #A00000 } /* Generic.Deleted */\n",
       ".output_html .ge { font-style: italic } /* Generic.Emph */\n",
       ".output_html .ges { font-weight: bold; font-style: italic } /* Generic.EmphStrong */\n",
       ".output_html .gr { color: #E40000 } /* Generic.Error */\n",
       ".output_html .gh { color: #000080; font-weight: bold } /* Generic.Heading */\n",
       ".output_html .gi { color: #008400 } /* Generic.Inserted */\n",
       ".output_html .go { color: #717171 } /* Generic.Output */\n",
       ".output_html .gp { color: #000080; font-weight: bold } /* Generic.Prompt */\n",
       ".output_html .gs { font-weight: bold } /* Generic.Strong */\n",
       ".output_html .gu { color: #800080; font-weight: bold } /* Generic.Subheading */\n",
       ".output_html .gt { color: #04D } /* Generic.Traceback */\n",
       ".output_html .kc { color: #008000; font-weight: bold } /* Keyword.Constant */\n",
       ".output_html .kd { color: #008000; font-weight: bold } /* Keyword.Declaration */\n",
       ".output_html .kn { color: #008000; font-weight: bold } /* Keyword.Namespace */\n",
       ".output_html .kp { color: #008000 } /* Keyword.Pseudo */\n",
       ".output_html .kr { color: #008000; font-weight: bold } /* Keyword.Reserved */\n",
       ".output_html .kt { color: #B00040 } /* Keyword.Type */\n",
       ".output_html .m { color: #666 } /* Literal.Number */\n",
       ".output_html .s { color: #BA2121 } /* Literal.String */\n",
       ".output_html .na { color: #687822 } /* Name.Attribute */\n",
       ".output_html .nb { color: #008000 } /* Name.Builtin */\n",
       ".output_html .nc { color: #00F; font-weight: bold } /* Name.Class */\n",
       ".output_html .no { color: #800 } /* Name.Constant */\n",
       ".output_html .nd { color: #A2F } /* Name.Decorator */\n",
       ".output_html .ni { color: #717171; font-weight: bold } /* Name.Entity */\n",
       ".output_html .ne { color: #CB3F38; font-weight: bold } /* Name.Exception */\n",
       ".output_html .nf { color: #00F } /* Name.Function */\n",
       ".output_html .nl { color: #767600 } /* Name.Label */\n",
       ".output_html .nn { color: #00F; font-weight: bold } /* Name.Namespace */\n",
       ".output_html .nt { color: #008000; font-weight: bold } /* Name.Tag */\n",
       ".output_html .nv { color: #19177C } /* Name.Variable */\n",
       ".output_html .ow { color: #A2F; font-weight: bold } /* Operator.Word */\n",
       ".output_html .w { color: #BBB } /* Text.Whitespace */\n",
       ".output_html .mb { color: #666 } /* Literal.Number.Bin */\n",
       ".output_html .mf { color: #666 } /* Literal.Number.Float */\n",
       ".output_html .mh { color: #666 } /* Literal.Number.Hex */\n",
       ".output_html .mi { color: #666 } /* Literal.Number.Integer */\n",
       ".output_html .mo { color: #666 } /* Literal.Number.Oct */\n",
       ".output_html .sa { color: #BA2121 } /* Literal.String.Affix */\n",
       ".output_html .sb { color: #BA2121 } /* Literal.String.Backtick */\n",
       ".output_html .sc { color: #BA2121 } /* Literal.String.Char */\n",
       ".output_html .dl { color: #BA2121 } /* Literal.String.Delimiter */\n",
       ".output_html .sd { color: #BA2121; font-style: italic } /* Literal.String.Doc */\n",
       ".output_html .s2 { color: #BA2121 } /* Literal.String.Double */\n",
       ".output_html .se { color: #AA5D1F; font-weight: bold } /* Literal.String.Escape */\n",
       ".output_html .sh { color: #BA2121 } /* Literal.String.Heredoc */\n",
       ".output_html .si { color: #A45A77; font-weight: bold } /* Literal.String.Interpol */\n",
       ".output_html .sx { color: #008000 } /* Literal.String.Other */\n",
       ".output_html .sr { color: #A45A77 } /* Literal.String.Regex */\n",
       ".output_html .s1 { color: #BA2121 } /* Literal.String.Single */\n",
       ".output_html .ss { color: #19177C } /* Literal.String.Symbol */\n",
       ".output_html .bp { color: #008000 } /* Name.Builtin.Pseudo */\n",
       ".output_html .fm { color: #00F } /* Name.Function.Magic */\n",
       ".output_html .vc { color: #19177C } /* Name.Variable.Class */\n",
       ".output_html .vg { color: #19177C } /* Name.Variable.Global */\n",
       ".output_html .vi { color: #19177C } /* Name.Variable.Instance */\n",
       ".output_html .vm { color: #19177C } /* Name.Variable.Magic */\n",
       ".output_html .il { color: #666 } /* Literal.Number.Integer.Long */</style><div class=\"highlight\"><pre><span></span><span class=\"nt\">&lt;document&gt;</span>\n",
       "<span class=\"w\">        </span><span class=\"nt\">&lt;scannerSettings</span><span class=\"w\"> </span><span class=\"na\">id=</span><span class=\"s\">&quot;tls&quot;</span><span class=\"w\"> </span><span class=\"na\">active=</span><span class=\"s\">&quot;true&quot;</span><span class=\"w\"> </span><span class=\"na\">pulseFreq_hz=</span><span class=\"s\">&quot;600000&quot;</span><span class=\"w\"> </span><span class=\"na\">verticalResolution_deg=</span><span class=\"s\">&quot;0.04&quot;</span><span class=\"w\"> </span><span class=\"na\">horizontalResolution_deg=</span><span class=\"s\">&quot;0.04&quot;</span><span class=\"w\"> </span><span class=\"nt\">/&gt;</span>\n",
       "<span class=\"w\">        </span><span class=\"nt\">&lt;survey</span><span class=\"w\"> </span><span class=\"na\">name=</span><span class=\"s\">&quot;white_birch_0&quot;</span><span class=\"w\"> </span><span class=\"na\">platform=</span><span class=\"s\">&quot;data/platforms_custom.xml#tripod_tilt_1_of_6&quot;</span><span class=\"w\"> </span><span class=\"na\">scanner=</span><span class=\"s\">&quot;data/scanners_tls.xml#riegl_vz400&quot;</span><span class=\"w\"> </span><span class=\"na\">scene=</span><span class=\"s\">&quot;data/scenes/white_birch_029.xml#scene&quot;</span><span class=\"nt\">&gt;</span>\n",
       "<span class=\"w\">            </span><span class=\"nt\">&lt;leg&gt;</span>\n",
       "<span class=\"w\">            </span><span class=\"nt\">&lt;platformSettings</span><span class=\"w\"> </span><span class=\"na\">x=</span><span class=\"s\">&quot;16.0000&quot;</span><span class=\"w\"> </span><span class=\"na\">y=</span><span class=\"s\">&quot;0.0000&quot;</span><span class=\"w\"> </span><span class=\"na\">z=</span><span class=\"s\">&quot;0&quot;</span><span class=\"w\"> </span><span class=\"nt\">/&gt;</span>\n",
       "<span class=\"w\">            </span><span class=\"nt\">&lt;scannerSettings</span><span class=\"w\"> </span><span class=\"na\">template=</span><span class=\"s\">&quot;tls&quot;</span><span class=\"w\"> </span><span class=\"na\">headRotateStart_deg=</span><span class=\"s\">&quot;0.0000&quot;</span><span class=\"w\"> </span><span class=\"na\">headRotateStop_deg=</span><span class=\"s\">&quot;120.0000&quot;</span><span class=\"w\"> </span><span class=\"na\">trajectoryTimeInterval_s=</span><span class=\"s\">&quot;0.05&quot;</span><span class=\"w\"> </span><span class=\"nt\">/&gt;</span>\n",
       "<span class=\"w\">        </span><span class=\"nt\">&lt;/leg&gt;</span>\n",
       "<span class=\"w\">        </span>\n",
       "<span class=\"w\">        </span><span class=\"nt\">&lt;/survey&gt;</span>\n",
       "<span class=\"w\">    </span><span class=\"nt\">&lt;/document&gt;</span>\n",
       "</pre></div>\n"
      ],
      "text/latex": [
       "\\begin{Verbatim}[commandchars=\\\\\\{\\}]\n",
       "\\PY{n+nt}{\\PYZlt{}document}\\PY{n+nt}{\\PYZgt{}}\n",
       "\\PY{+w}{        }\\PY{n+nt}{\\PYZlt{}scannerSettings}\\PY{+w}{ }\\PY{n+na}{id=}\\PY{l+s}{\\PYZdq{}tls\\PYZdq{}}\\PY{+w}{ }\\PY{n+na}{active=}\\PY{l+s}{\\PYZdq{}true\\PYZdq{}}\\PY{+w}{ }\\PY{n+na}{pulseFreq\\PYZus{}hz=}\\PY{l+s}{\\PYZdq{}600000\\PYZdq{}}\\PY{+w}{ }\\PY{n+na}{verticalResolution\\PYZus{}deg=}\\PY{l+s}{\\PYZdq{}0.04\\PYZdq{}}\\PY{+w}{ }\\PY{n+na}{horizontalResolution\\PYZus{}deg=}\\PY{l+s}{\\PYZdq{}0.04\\PYZdq{}}\\PY{+w}{ }\\PY{n+nt}{/\\PYZgt{}}\n",
       "\\PY{+w}{        }\\PY{n+nt}{\\PYZlt{}survey}\\PY{+w}{ }\\PY{n+na}{name=}\\PY{l+s}{\\PYZdq{}white\\PYZus{}birch\\PYZus{}0\\PYZdq{}}\\PY{+w}{ }\\PY{n+na}{platform=}\\PY{l+s}{\\PYZdq{}data/platforms\\PYZus{}custom.xml\\PYZsh{}tripod\\PYZus{}tilt\\PYZus{}1\\PYZus{}of\\PYZus{}6\\PYZdq{}}\\PY{+w}{ }\\PY{n+na}{scanner=}\\PY{l+s}{\\PYZdq{}data/scanners\\PYZus{}tls.xml\\PYZsh{}riegl\\PYZus{}vz400\\PYZdq{}}\\PY{+w}{ }\\PY{n+na}{scene=}\\PY{l+s}{\\PYZdq{}data/scenes/white\\PYZus{}birch\\PYZus{}029.xml\\PYZsh{}scene\\PYZdq{}}\\PY{n+nt}{\\PYZgt{}}\n",
       "\\PY{+w}{            }\\PY{n+nt}{\\PYZlt{}leg}\\PY{n+nt}{\\PYZgt{}}\n",
       "\\PY{+w}{            }\\PY{n+nt}{\\PYZlt{}platformSettings}\\PY{+w}{ }\\PY{n+na}{x=}\\PY{l+s}{\\PYZdq{}16.0000\\PYZdq{}}\\PY{+w}{ }\\PY{n+na}{y=}\\PY{l+s}{\\PYZdq{}0.0000\\PYZdq{}}\\PY{+w}{ }\\PY{n+na}{z=}\\PY{l+s}{\\PYZdq{}0\\PYZdq{}}\\PY{+w}{ }\\PY{n+nt}{/\\PYZgt{}}\n",
       "\\PY{+w}{            }\\PY{n+nt}{\\PYZlt{}scannerSettings}\\PY{+w}{ }\\PY{n+na}{template=}\\PY{l+s}{\\PYZdq{}tls\\PYZdq{}}\\PY{+w}{ }\\PY{n+na}{headRotateStart\\PYZus{}deg=}\\PY{l+s}{\\PYZdq{}0.0000\\PYZdq{}}\\PY{+w}{ }\\PY{n+na}{headRotateStop\\PYZus{}deg=}\\PY{l+s}{\\PYZdq{}120.0000\\PYZdq{}}\\PY{+w}{ }\\PY{n+na}{trajectoryTimeInterval\\PYZus{}s=}\\PY{l+s}{\\PYZdq{}0.05\\PYZdq{}}\\PY{+w}{ }\\PY{n+nt}{/\\PYZgt{}}\n",
       "\\PY{+w}{        }\\PY{n+nt}{\\PYZlt{}/leg\\PYZgt{}}\n",
       "\\PY{+w}{        }\n",
       "\\PY{+w}{        }\\PY{n+nt}{\\PYZlt{}/survey\\PYZgt{}}\n",
       "\\PY{+w}{    }\\PY{n+nt}{\\PYZlt{}/document\\PYZgt{}}\n",
       "\\end{Verbatim}\n"
      ],
      "text/plain": [
       "<document>\n",
       "        <scannerSettings id=\"tls\" active=\"true\" pulseFreq_hz=\"600000\" verticalResolution_deg=\"0.04\" horizontalResolution_deg=\"0.04\" />\n",
       "        <survey name=\"white_birch_0\" platform=\"data/platforms_custom.xml#tripod_tilt_1_of_6\" scanner=\"data/scanners_tls.xml#riegl_vz400\" scene=\"data/scenes/white_birch_029.xml#scene\">\n",
       "            <leg>\n",
       "            <platformSettings x=\"16.0000\" y=\"0.0000\" z=\"0\" />\n",
       "            <scannerSettings template=\"tls\" headRotateStart_deg=\"0.0000\" headRotateStop_deg=\"120.0000\" trajectoryTimeInterval_s=\"0.05\" />\n",
       "        </leg>\n",
       "        \n",
       "        </survey>\n",
       "    </document>"
      ]
     },
     "execution_count": 5,
     "metadata": {},
     "output_type": "execute_result"
    }
   ],
   "source": [
    "Code(display_xml('data/surveys/white_birch_0.xml'), language='XML')"
   ]
  },
  {
   "cell_type": "markdown",
   "id": "ec05a4a8-f5ff-4c81-9a5c-5e7b10b02589",
   "metadata": {},
   "source": [
    "### Executing the simulation"
   ]
  },
  {
   "cell_type": "code",
   "execution_count": null,
   "id": "34a8159a-1e39-4bcc-989d-90ebb0a2e251",
   "metadata": {},
   "outputs": [],
   "source": [
    "!helios data/surveys/white_birch_0.xml -q --lasOutput --zipOutput --rebuildScene\n",
    "!helios data/surveys/white_birch_1.xml -q --lasOutput --zipOutput --rebuildScene\n",
    "!helios data/surveys/white_birch_2.xml -q --lasOutput --zipOutput --rebuildScene\n",
    "!helios data/surveys/white_birch_3.xml -q --lasOutput --zipOutput --rebuildScene\n",
    "!helios data/surveys/white_birch_4.xml -q --lasOutput --zipOutput --rebuildScene\n",
    "!helios data/surveys/white_birch_5.xml -q --lasOutput --zipOutput --rebuildScene"
   ]
  },
  {
   "cell_type": "code",
   "execution_count": 9,
   "id": "f4d44a32-ab0c-4b3f-ba4f-2e609b62dd03",
   "metadata": {},
   "outputs": [],
   "source": [
    "# reading and merging\n",
    "output_path = Path(find_playback_dir('data/surveys/white_birch_0.xml'))\n",
    "pc_t1, _, classification_t1, helios_amplitude_t1, _, pt_src_id_t1 = read_pc(output_path / 'leg000_points.laz', 0)\n",
    "output_path = Path(find_playback_dir('data/surveys/white_birch_1.xml'))\n",
    "pc_t2, _, classification_t2, helios_amplitude_t2, _, pt_src_id_t2 = read_pc(output_path / 'leg000_points.laz', 1)\n",
    "output_path = Path(find_playback_dir('data/surveys/white_birch_2.xml'))\n",
    "pc_t3, _, classification_t3, helios_amplitude_t3, _, pt_src_id_t3 = read_pc(output_path / 'leg000_points.laz', 2)\n",
    "output_path = Path(find_playback_dir('data/surveys/white_birch_3.xml'))\n",
    "pc_t4, _, classification_t4, helios_amplitude_t4, _, pt_src_id_t4 = read_pc(output_path / 'leg000_points.laz', 3)\n",
    "output_path = Path(find_playback_dir('data/surveys/white_birch_4.xml'))\n",
    "pc_t5, _, classification_t5, helios_amplitude_t5, _, pt_src_id_t5 = read_pc(output_path / 'leg000_points.laz', 4)\n",
    "output_path = Path(find_playback_dir('data/surveys/white_birch_5.xml'))\n",
    "pc_t6, _, classification_t6, helios_amplitude_t6, _, pt_src_id_t6 = read_pc(output_path / 'leg000_points.laz', 5)\n",
    "\n",
    "pc = pc = np.vstack([pc_t1, pc_t2, pc_t3, pc_t4, pc_t5, pc_t6])\n",
    "classification = np.hstack([classification_t1, classification_t2, classification_t3, classification_t4, classification_t5, classification_t6])\n",
    "helios_amplitude = np.hstack([helios_amplitude_t1, helios_amplitude_t2, helios_amplitude_t3, helios_amplitude_t4, helios_amplitude_t5, helios_amplitude_t6])\n",
    "pt_src_id = np.hstack([pt_src_id_t1, pt_src_id_t2, pt_src_id_t3, pt_src_id_t4, pt_src_id_t5, pt_src_id_t6 ])"
   ]
  },
  {
   "cell_type": "markdown",
   "id": "7f3a1ad1-66be-4929-a9ca-96758b0601ab",
   "metadata": {},
   "source": [
    "### Visualizing the output\n",
    "\n",
    "We are plotting the output coloured by the \"Point Source ID\", i.e., the ID of the scan position that the scan originates from (left), and coloured by classification (0 = wood, 1 = leaf)."
   ]
  },
  {
   "cell_type": "code",
   "execution_count": 10,
   "id": "95741886-ff65-4cf7-884a-aaa495a4436f",
   "metadata": {},
   "outputs": [
    {
     "data": {
      "application/vnd.jupyter.widget-view+json": {
       "model_id": "3fa6d7c5e503400a8b8a0cc233705270",
       "version_major": 2,
       "version_minor": 0
      },
      "text/plain": [
       "Widget(value='<iframe src=\"http://localhost:58579/index.html?ui=P_0x13c326ebd90_3&reconnect=auto\" class=\"pyvis…"
      ]
     },
     "metadata": {},
     "output_type": "display_data"
    }
   ],
   "source": [
    "p = pv.Plotter(notebook=True, shape=(1, 2)) \n",
    "p.add_points(pc, \n",
    "             scalars=pt_src_id,\n",
    "             style='points',\n",
    "             #cmap='gwv',\n",
    "             point_size=2,\n",
    "             scalar_bar_args={'title': 'Point Source ID',\n",
    "                              'n_labels': 6,\n",
    "                              'position_x': 0.3})\n",
    "p.subplot(0, 1)\n",
    "p.add_points(pc, \n",
    "             scalars=classification,\n",
    "             style='points',\n",
    "             cmap=['saddlebrown', 'forestgreen'],\n",
    "             render_points_as_spheres=True,\n",
    "             point_size=2,\n",
    "             scalar_bar_args={'title': 'Classification',\n",
    "                              'n_labels': 2,\n",
    "                              'position_x': 0.3})\n",
    "p.link_views()\n",
    "p.camera_position = 'xz'\n",
    "p.camera.zoom(3)\n",
    "p.show()"
   ]
  }
 ],
 "metadata": {
  "kernelspec": {
   "display_name": "Python 3 (ipykernel)",
   "language": "python",
   "name": "python3"
  },
  "language_info": {
   "codemirror_mode": {
    "name": "ipython",
    "version": 3
   },
   "file_extension": ".py",
   "mimetype": "text/x-python",
   "name": "python",
   "nbconvert_exporter": "python",
   "pygments_lexer": "ipython3",
   "version": "3.13.1"
  }
 },
 "nbformat": 4,
 "nbformat_minor": 5
}
